{
  "metadata": {
    "kernelspec": {
      "name": "python",
      "display_name": "Python (Pyodide)",
      "language": "python"
    },
    "language_info": {
      "codemirror_mode": {
        "name": "python",
        "version": 3
      },
      "file_extension": ".py",
      "mimetype": "text/x-python",
      "name": "python",
      "nbconvert_exporter": "python",
      "pygments_lexer": "ipython3",
      "version": "3.8"
    },
    "prev_pub_hash": "f4a5be59d8ac55de59eef3528bb08edc9f1816b67184ad14599556eec40d06b8"
  },
  "nbformat_minor": 4,
  "nbformat": 4,
  "cells": [
    {
      "cell_type": "markdown",
      "source": "<p style=\"text-align:center\">\n    <a href=\"https://skills.network\" target=\"_blank\">\n    <img src=\"https://cf-courses-data.s3.us.cloud-object-storage.appdomain.cloud/assets/logos/SN_web_lightmode.png\" width=\"200\" alt=\"Skills Network Logo\">\n    </a>\n</p>\n",
      "metadata": {}
    },
    {
      "cell_type": "markdown",
      "source": "# **Data Wrangling Lab**\n",
      "metadata": {}
    },
    {
      "cell_type": "markdown",
      "source": "Estimated time needed: **45 to 60** minutes\n",
      "metadata": {}
    },
    {
      "cell_type": "markdown",
      "source": "In this assignment you will be performing data wrangling.\n",
      "metadata": {}
    },
    {
      "cell_type": "markdown",
      "source": "## Objectives\n",
      "metadata": {}
    },
    {
      "cell_type": "markdown",
      "source": "In this lab you will perform the following:\n",
      "metadata": {}
    },
    {
      "cell_type": "markdown",
      "source": "-   Identify duplicate values in the dataset.\n\n-   Remove duplicate values from the dataset.\n\n-   Identify missing values in the dataset.\n\n-   Impute the missing values in the dataset.\n\n-   Normalize data in the dataset.\n",
      "metadata": {}
    },
    {
      "cell_type": "markdown",
      "source": "<hr>\n",
      "metadata": {}
    },
    {
      "cell_type": "markdown",
      "source": "## Hands on Lab\n",
      "metadata": {}
    },
    {
      "cell_type": "markdown",
      "source": "Import pandas module.\n",
      "metadata": {}
    },
    {
      "cell_type": "code",
      "source": "",
      "metadata": {
        "trusted": true
      },
      "outputs": [],
      "execution_count": 8
    },
    {
      "cell_type": "markdown",
      "source": "Load the dataset into a dataframe.\n",
      "metadata": {}
    },
    {
      "cell_type": "markdown",
      "source": "<h2>Read Data</h2>\n<p>\nWe utilize the <code>pandas.read_csv()</code> function for reading CSV files. However, in this version of the lab, which operates on JupyterLite, the dataset needs to be downloaded to the interface using the provided code below.\n</p>\n",
      "metadata": {}
    },
    {
      "cell_type": "markdown",
      "source": "The functions below will download the dataset into your browser:\n",
      "metadata": {}
    },
    {
      "cell_type": "code",
      "source": "from pyodide.http import pyfetch\n\nasync def download(url, filename):\n    response = await pyfetch(url)\n    if response.status == 200:\n        with open(filename, \"wb\") as f:\n            f.write(await response.bytes())",
      "metadata": {
        "trusted": true
      },
      "outputs": [],
      "execution_count": 9
    },
    {
      "cell_type": "code",
      "source": "file_path = \"https://cf-courses-data.s3.us.cloud-object-storage.appdomain.cloud/IBM-DA0321EN-SkillsNetwork/labs/Capstone_edX/Module%201/survey_results_public_2020.csv\"",
      "metadata": {
        "trusted": true
      },
      "outputs": [],
      "execution_count": 10
    },
    {
      "cell_type": "markdown",
      "source": "To obtain the dataset, utilize the download() function as defined above:  \n",
      "metadata": {}
    },
    {
      "cell_type": "code",
      "source": "await download(file_path, \"m1_survey_data.csv\")\nfile_name=\"m1_survey_data.csv\"",
      "metadata": {
        "trusted": true
      },
      "outputs": [],
      "execution_count": 11
    },
    {
      "cell_type": "markdown",
      "source": "Utilize the Pandas method read_csv() to load the data into a dataframe.\n",
      "metadata": {}
    },
    {
      "cell_type": "code",
      "source": "df = pd.read_csv(file_name)\n",
      "metadata": {
        "trusted": true
      },
      "outputs": [],
      "execution_count": 12
    },
    {
      "cell_type": "markdown",
      "source": "> Note: This version of the lab is working on JupyterLite, which requires the dataset to be downloaded to the interface.While working on the downloaded version of this notebook on their local machines(Jupyter Anaconda), the learners can simply **skip the steps above,** and simply use the URL directly in the `pandas.read_csv()` function. You can uncomment and run the statements in the cell below.\n",
      "metadata": {}
    },
    {
      "cell_type": "code",
      "source": "df = pd.read_csv(\"https://cf-courses-data.s3.us.cloud-object-storage.appdomain.cloud/IBM-DA0321EN-SkillsNetwork/labs/Capstone_edX/Module%201/survey_results_public_2020.csv\")",
      "metadata": {
        "trusted": true
      },
      "outputs": [],
      "execution_count": null
    },
    {
      "cell_type": "markdown",
      "source": "## Finding duplicates\n",
      "metadata": {}
    },
    {
      "cell_type": "markdown",
      "source": "In this section you will identify duplicate values in the dataset.\n",
      "metadata": {}
    },
    {
      "cell_type": "markdown",
      "source": " Find how many duplicate rows exist in the dataframe.\n",
      "metadata": {}
    },
    {
      "cell_type": "code",
      "source": "Duplicated=df.duplicated().sum()\nprint(Duplicated)\ndf.shape",
      "metadata": {
        "trusted": true
      },
      "outputs": [
        {
          "name": "stdout",
          "text": "0\n",
          "output_type": "stream"
        },
        {
          "execution_count": 13,
          "output_type": "execute_result",
          "data": {
            "text/plain": "(64461, 61)"
          },
          "metadata": {}
        }
      ],
      "execution_count": 13
    },
    {
      "cell_type": "markdown",
      "source": "## Removing duplicates\n",
      "metadata": {}
    },
    {
      "cell_type": "markdown",
      "source": "Remove the duplicate rows from the dataframe.\n",
      "metadata": {}
    },
    {
      "cell_type": "code",
      "source": "df.drop_duplicates()\n\nprint(df.duplicated().value_counts())",
      "metadata": {
        "trusted": true
      },
      "outputs": [
        {
          "name": "stdout",
          "text": "False    64461\ndtype: int64\n",
          "output_type": "stream"
        }
      ],
      "execution_count": 14
    },
    {
      "cell_type": "markdown",
      "source": "Verify if duplicates were actually dropped.\n",
      "metadata": {}
    },
    {
      "cell_type": "code",
      "source": "# your code goes here\ndf.shape",
      "metadata": {
        "trusted": true
      },
      "outputs": [
        {
          "execution_count": 15,
          "output_type": "execute_result",
          "data": {
            "text/plain": "(64461, 61)"
          },
          "metadata": {}
        }
      ],
      "execution_count": 15
    },
    {
      "cell_type": "markdown",
      "source": "## Finding Missing values\n",
      "metadata": {}
    },
    {
      "cell_type": "markdown",
      "source": "Find the missing values for all columns.\n",
      "metadata": {}
    },
    {
      "cell_type": "code",
      "source": "missing = df.isnull()\nfor column in missing.columns.values.tolist():\n    print(column)\n    print (missing[column].value_counts())\n",
      "metadata": {
        "trusted": true
      },
      "outputs": [
        {
          "name": "stdout",
          "text": "Respondent\nFalse    64461\nName: Respondent, dtype: int64\nMainBranch\nFalse    64162\nTrue       299\nName: MainBranch, dtype: int64\nHobbyist\nFalse    64416\nTrue        45\nName: Hobbyist, dtype: int64\nAge\nFalse    64461\nName: Age, dtype: int64\nAge1stCode\nFalse    57900\nTrue      6561\nName: Age1stCode, dtype: int64\nCompFreq\nFalse    40069\nTrue     24392\nName: CompFreq, dtype: int64\nCompTotal\nFalse    34826\nTrue     29635\nName: CompTotal, dtype: int64\nConvertedComp\nFalse    34756\nTrue     29705\nName: ConvertedComp, dtype: int64\nCountry\nFalse    64072\nTrue       389\nName: Country, dtype: int64\nCurrencyDesc\nFalse    45472\nTrue     18989\nName: CurrencyDesc, dtype: int64\nCurrencySymbol\nFalse    45472\nTrue     18989\nName: CurrencySymbol, dtype: int64\nDatabaseDesireNextYear\nFalse    44070\nTrue     20391\nName: DatabaseDesireNextYear, dtype: int64\nDatabaseWorkedWith\nFalse    49537\nTrue     14924\nName: DatabaseWorkedWith, dtype: int64\nDevType\nFalse    49370\nTrue     15091\nName: DevType, dtype: int64\nEdLevel\nFalse    57431\nTrue      7030\nName: EdLevel, dtype: int64\nEmployment\nFalse    63854\nTrue       607\nName: Employment, dtype: int64\nEthnicity\nFalse    45948\nTrue     18513\nName: Ethnicity, dtype: int64\nGender\nFalse    50557\nTrue     13904\nName: Gender, dtype: int64\nJobFactors\nFalse    49349\nTrue     15112\nName: JobFactors, dtype: int64\nJobSat\nFalse    45194\nTrue     19267\nName: JobSat, dtype: int64\nJobSeek\nFalse    51727\nTrue     12734\nName: JobSeek, dtype: int64\nLanguageDesireNextYear\nFalse    54113\nTrue     10348\nName: LanguageDesireNextYear, dtype: int64\nLanguageWorkedWith\nFalse    57378\nTrue      7083\nName: LanguageWorkedWith, dtype: int64\nMiscTechDesireNextYear\nFalse    42379\nTrue     22082\nName: MiscTechDesireNextYear, dtype: int64\nMiscTechWorkedWith\nFalse    40314\nTrue     24147\nName: MiscTechWorkedWith, dtype: int64\nNEWCollabToolsDesireNextYear\nFalse    47287\nTrue     17174\nName: NEWCollabToolsDesireNextYear, dtype: int64\nNEWCollabToolsWorkedWith\nFalse    52883\nTrue     11578\nName: NEWCollabToolsWorkedWith, dtype: int64\nNEWDevOps\nFalse    42686\nTrue     21775\nName: NEWDevOps, dtype: int64\nNEWDevOpsImpt\nFalse    41732\nTrue     22729\nName: NEWDevOpsImpt, dtype: int64\nNEWEdImpt\nFalse    48465\nTrue     15996\nName: NEWEdImpt, dtype: int64\nNEWJobHunt\nFalse    42286\nTrue     22175\nName: NEWJobHunt, dtype: int64\nNEWJobHuntResearch\nFalse    41022\nTrue     23439\nName: NEWJobHuntResearch, dtype: int64\nNEWLearn\nFalse    56156\nTrue      8305\nName: NEWLearn, dtype: int64\nNEWOffTopic\nFalse    50804\nTrue     13657\nName: NEWOffTopic, dtype: int64\nNEWOnboardGood\nFalse    42623\nTrue     21838\nName: NEWOnboardGood, dtype: int64\nNEWOtherComms\nFalse    57205\nTrue      7256\nName: NEWOtherComms, dtype: int64\nNEWOvertime\nFalse    43231\nTrue     21230\nName: NEWOvertime, dtype: int64\nNEWPurchaseResearch\nFalse    37321\nTrue     27140\nName: NEWPurchaseResearch, dtype: int64\nNEWPurpleLink\nFalse    54803\nTrue      9658\nName: NEWPurpleLink, dtype: int64\nNEWSOSites\nFalse    58275\nTrue      6186\nName: NEWSOSites, dtype: int64\nNEWStuck\nFalse    54983\nTrue      9478\nName: NEWStuck, dtype: int64\nOpSys\nFalse    56228\nTrue      8233\nName: OpSys, dtype: int64\nOrgSize\nFalse    44334\nTrue     20127\nName: OrgSize, dtype: int64\nPlatformDesireNextYear\nFalse    50605\nTrue     13856\nName: PlatformDesireNextYear, dtype: int64\nPlatformWorkedWith\nFalse    53843\nTrue     10618\nName: PlatformWorkedWith, dtype: int64\nPurchaseWhat\nFalse    39364\nTrue     25097\nName: PurchaseWhat, dtype: int64\nSexuality\nFalse    43992\nTrue     20469\nName: Sexuality, dtype: int64\nSOAccount\nFalse    56805\nTrue      7656\nName: SOAccount, dtype: int64\nSOComm\nFalse    56476\nTrue      7985\nName: SOComm, dtype: int64\nSOPartFreq\nFalse    46792\nTrue     17669\nName: SOPartFreq, dtype: int64\nSOVisitFreq\nFalse    56970\nTrue      7491\nName: SOVisitFreq, dtype: int64\nSurveyEase\nFalse    51802\nTrue     12659\nName: SurveyEase, dtype: int64\nSurveyLength\nFalse    51701\nTrue     12760\nName: SurveyLength, dtype: int64\nTrans\nFalse    49345\nTrue     15116\nName: Trans, dtype: int64\nUndergradMajor\nFalse    50995\nTrue     13466\nName: UndergradMajor, dtype: int64\nWebframeDesireNextYear\nFalse    40024\nTrue     24437\nName: WebframeDesireNextYear, dtype: int64\nWebframeWorkedWith\nFalse    42279\nTrue     22182\nName: WebframeWorkedWith, dtype: int64\nWelcomeChange\nFalse    52683\nTrue     11778\nName: WelcomeChange, dtype: int64\nWorkWeekHrs\nFalse    41151\nTrue     23310\nName: WorkWeekHrs, dtype: int64\nYearsCode\nFalse    57684\nTrue      6777\nName: YearsCode, dtype: int64\nYearsCodePro\nFalse    46349\nTrue     18112\nName: YearsCodePro, dtype: int64\nNormalizedAnnualCompensation\nFalse    34826\nTrue     29635\nName: NormalizedAnnualCompensation, dtype: int64\n",
          "output_type": "stream"
        }
      ],
      "execution_count": 34
    },
    {
      "cell_type": "code",
      "source": "# your code goes here",
      "metadata": {},
      "outputs": [],
      "execution_count": null
    },
    {
      "cell_type": "markdown",
      "source": "## Imputing missing values\n",
      "metadata": {}
    },
    {
      "cell_type": "markdown",
      "source": "Find the  value counts for the column Age.\n",
      "metadata": {}
    },
    {
      "cell_type": "code",
      "source": "df['Age'].value_counts()\n",
      "metadata": {
        "trusted": true
      },
      "outputs": [
        {
          "execution_count": 17,
          "output_type": "execute_result",
          "data": {
            "text/plain": "25.0    2693\n28.0    2412\n30.0    2406\n26.0    2391\n27.0    2338\n        ... \n34.5       1\n14.7       1\n97.0       1\n3.0        1\n14.5       1\nName: Age, Length: 110, dtype: int64"
          },
          "metadata": {}
        }
      ],
      "execution_count": 17
    },
    {
      "cell_type": "markdown",
      "source": "Find the median for the column Age\n",
      "metadata": {}
    },
    {
      "cell_type": "code",
      "source": "df['Age'].median()\n",
      "metadata": {
        "trusted": true
      },
      "outputs": [
        {
          "execution_count": 18,
          "output_type": "execute_result",
          "data": {
            "text/plain": "29.0"
          },
          "metadata": {}
        }
      ],
      "execution_count": 18
    },
    {
      "cell_type": "markdown",
      "source": "Impute the median value to Age column\n",
      "metadata": {}
    },
    {
      "cell_type": "code",
      "source": "df['Age'].fillna(29.0, inplace=True)\ndf.columns[df.isnull().any()]",
      "metadata": {
        "trusted": true
      },
      "outputs": [
        {
          "execution_count": 19,
          "output_type": "execute_result",
          "data": {
            "text/plain": "Index(['MainBranch', 'Hobbyist', 'Age1stCode', 'CompFreq', 'CompTotal',\n       'ConvertedComp', 'Country', 'CurrencyDesc', 'CurrencySymbol',\n       'DatabaseDesireNextYear', 'DatabaseWorkedWith', 'DevType', 'EdLevel',\n       'Employment', 'Ethnicity', 'Gender', 'JobFactors', 'JobSat', 'JobSeek',\n       'LanguageDesireNextYear', 'LanguageWorkedWith',\n       'MiscTechDesireNextYear', 'MiscTechWorkedWith',\n       'NEWCollabToolsDesireNextYear', 'NEWCollabToolsWorkedWith', 'NEWDevOps',\n       'NEWDevOpsImpt', 'NEWEdImpt', 'NEWJobHunt', 'NEWJobHuntResearch',\n       'NEWLearn', 'NEWOffTopic', 'NEWOnboardGood', 'NEWOtherComms',\n       'NEWOvertime', 'NEWPurchaseResearch', 'NEWPurpleLink', 'NEWSOSites',\n       'NEWStuck', 'OpSys', 'OrgSize', 'PlatformDesireNextYear',\n       'PlatformWorkedWith', 'PurchaseWhat', 'Sexuality', 'SOAccount',\n       'SOComm', 'SOPartFreq', 'SOVisitFreq', 'SurveyEase', 'SurveyLength',\n       'Trans', 'UndergradMajor', 'WebframeDesireNextYear',\n       'WebframeWorkedWith', 'WelcomeChange', 'WorkWeekHrs', 'YearsCode',\n       'YearsCodePro'],\n      dtype='object')"
          },
          "metadata": {}
        }
      ],
      "execution_count": 19
    },
    {
      "cell_type": "markdown",
      "source": "Identify the value that is most frequent (majority) in the Country column.\n",
      "metadata": {}
    },
    {
      "cell_type": "code",
      "source": "df['Country'].mode() \n",
      "metadata": {
        "trusted": true
      },
      "outputs": [
        {
          "execution_count": 20,
          "output_type": "execute_result",
          "data": {
            "text/plain": "0    United States\nName: Country, dtype: object"
          },
          "metadata": {}
        }
      ],
      "execution_count": 20
    },
    {
      "cell_type": "markdown",
      "source": "Drop all the missing values from the dataset\n",
      "metadata": {}
    },
    {
      "cell_type": "code",
      "source": "df['Hobbyist'].isnull().sum()  \ndf.dropna()",
      "metadata": {
        "trusted": true
      },
      "outputs": [
        {
          "execution_count": 25,
          "output_type": "execute_result",
          "data": {
            "text/plain": "       Respondent                      MainBranch Hobbyist   Age Age1stCode  \\\n9              10  I am a developer by profession      Yes  22.0         14   \n32             33  I am a developer by profession      Yes  39.0         14   \n41             42  I am a developer by profession       No  32.0         14   \n46             47  I am a developer by profession      Yes  53.0         10   \n68             69  I am a developer by profession      Yes  25.0         12   \n...           ...                             ...      ...   ...        ...   \n61636       62886  I am a developer by profession      Yes  32.0         24   \n61654       62904  I am a developer by profession      Yes  33.0         24   \n61993       63288  I am a developer by profession       No  31.0         16   \n63141       64523  I am a developer by profession       No  29.0         15   \n63517       64938  I am a developer by profession       No  33.0         13   \n\n      CompFreq  CompTotal  ConvertedComp         Country  \\\n9       Yearly    25000.0        32315.0  United Kingdom   \n32     Monthly     4900.0        63564.0         Belgium   \n41      Yearly   130000.0       130000.0   United States   \n46      Yearly    58000.0        74970.0  United Kingdom   \n68      Yearly   550000.0       594539.0          France   \n...        ...        ...            ...             ...   \n61636   Yearly   102700.0       102700.0   United States   \n61654   Yearly    95000.0        95000.0   United States   \n61993   Yearly    65000.0        84019.0  United Kingdom   \n63141  Monthly     8500.0        23364.0          Brazil   \n63517   Yearly    55000.0        59454.0          France   \n\n               CurrencyDesc  ...                  SurveyEase  \\\n9            Pound sterling  ...                        Easy   \n32            European Euro  ...  Neither easy nor difficult   \n41     United States dollar  ...                        Easy   \n46           Pound sterling  ...  Neither easy nor difficult   \n68            European Euro  ...                        Easy   \n...                     ...  ...                         ...   \n61636  United States dollar  ...                        Easy   \n61654  United States dollar  ...  Neither easy nor difficult   \n61993        Pound sterling  ...                        Easy   \n63141        Brazilian real  ...                        Easy   \n63517         European Euro  ...                        Easy   \n\n                SurveyLength Trans  \\\n9      Appropriate in length    No   \n32     Appropriate in length    No   \n41     Appropriate in length    No   \n46     Appropriate in length    No   \n68                 Too short    No   \n...                      ...   ...   \n61636  Appropriate in length    No   \n61654               Too long    No   \n61993  Appropriate in length    No   \n63141  Appropriate in length    No   \n63517  Appropriate in length    No   \n\n                                          UndergradMajor  \\\n9                              Mathematics or statistics   \n32     Computer science, computer engineering, or sof...   \n41     Computer science, computer engineering, or sof...   \n46     A natural science (such as biology, chemistry,...   \n68     Computer science, computer engineering, or sof...   \n...                                                  ...   \n61636  Information systems, information technology, o...   \n61654  Computer science, computer engineering, or sof...   \n61993  Computer science, computer engineering, or sof...   \n63141  Computer science, computer engineering, or sof...   \n63517  Computer science, computer engineering, or sof...   \n\n                             WebframeDesireNextYear  \\\n9                                      Flask;jQuery   \n32            Express;Gatsby;React.js;Ruby on Rails   \n41                              ASP.NET Core;Spring   \n46                                     Flask;Spring   \n68                                     Django;Flask   \n...                                             ...   \n61636                                       Angular   \n61654                              Express;React.js   \n61993                    Angular;Angular.js;Express   \n63141  Angular;ASP.NET;ASP.NET Core;React.js;Vue.js   \n63517                                  Django;Flask   \n\n                               WebframeWorkedWith  \\\n9                                    Flask;jQuery   \n32     Angular;Angular.js;Django;Express;React.js   \n41                  ASP.NET;Flask;React.js;Spring   \n46                                   Flask;Spring   \n68                                   Django;Flask   \n...                                           ...   \n61636             Angular;Angular.js;ASP.NET Core   \n61654             Express;Laravel;React.js;Vue.js   \n61993                  Angular;Angular.js;Express   \n63141                 ASP.NET;ASP.NET Core;jQuery   \n63517           Django;Flask;jQuery;Ruby on Rails   \n\n                                  WelcomeChange WorkWeekHrs YearsCode  \\\n9      Somewhat more welcome now than last year        36.0         8   \n32      Just as welcome now as I felt last year        40.0        20   \n41     Somewhat less welcome now than last year        37.0        16   \n46      Just as welcome now as I felt last year        40.0        43   \n68      Just as welcome now as I felt last year        40.0        13   \n...                                         ...         ...       ...   \n61636  Somewhat more welcome now than last year        45.0         7   \n61654   Just as welcome now as I felt last year        50.0         9   \n61993   Just as welcome now as I felt last year        40.0        14   \n63141  Somewhat more welcome now than last year        40.0        19   \n63517   Just as welcome now as I felt last year        40.0        20   \n\n      YearsCodePro  \n9                4  \n32              14  \n41              10  \n46              28  \n68               3  \n...            ...  \n61636            5  \n61654            7  \n61993            7  \n63141           17  \n63517           12  \n\n[4387 rows x 61 columns]",
            "text/html": "<div>\n<style scoped>\n    .dataframe tbody tr th:only-of-type {\n        vertical-align: middle;\n    }\n\n    .dataframe tbody tr th {\n        vertical-align: top;\n    }\n\n    .dataframe thead th {\n        text-align: right;\n    }\n</style>\n<table border=\"1\" class=\"dataframe\">\n  <thead>\n    <tr style=\"text-align: right;\">\n      <th></th>\n      <th>Respondent</th>\n      <th>MainBranch</th>\n      <th>Hobbyist</th>\n      <th>Age</th>\n      <th>Age1stCode</th>\n      <th>CompFreq</th>\n      <th>CompTotal</th>\n      <th>ConvertedComp</th>\n      <th>Country</th>\n      <th>CurrencyDesc</th>\n      <th>...</th>\n      <th>SurveyEase</th>\n      <th>SurveyLength</th>\n      <th>Trans</th>\n      <th>UndergradMajor</th>\n      <th>WebframeDesireNextYear</th>\n      <th>WebframeWorkedWith</th>\n      <th>WelcomeChange</th>\n      <th>WorkWeekHrs</th>\n      <th>YearsCode</th>\n      <th>YearsCodePro</th>\n    </tr>\n  </thead>\n  <tbody>\n    <tr>\n      <th>9</th>\n      <td>10</td>\n      <td>I am a developer by profession</td>\n      <td>Yes</td>\n      <td>22.0</td>\n      <td>14</td>\n      <td>Yearly</td>\n      <td>25000.0</td>\n      <td>32315.0</td>\n      <td>United Kingdom</td>\n      <td>Pound sterling</td>\n      <td>...</td>\n      <td>Easy</td>\n      <td>Appropriate in length</td>\n      <td>No</td>\n      <td>Mathematics or statistics</td>\n      <td>Flask;jQuery</td>\n      <td>Flask;jQuery</td>\n      <td>Somewhat more welcome now than last year</td>\n      <td>36.0</td>\n      <td>8</td>\n      <td>4</td>\n    </tr>\n    <tr>\n      <th>32</th>\n      <td>33</td>\n      <td>I am a developer by profession</td>\n      <td>Yes</td>\n      <td>39.0</td>\n      <td>14</td>\n      <td>Monthly</td>\n      <td>4900.0</td>\n      <td>63564.0</td>\n      <td>Belgium</td>\n      <td>European Euro</td>\n      <td>...</td>\n      <td>Neither easy nor difficult</td>\n      <td>Appropriate in length</td>\n      <td>No</td>\n      <td>Computer science, computer engineering, or sof...</td>\n      <td>Express;Gatsby;React.js;Ruby on Rails</td>\n      <td>Angular;Angular.js;Django;Express;React.js</td>\n      <td>Just as welcome now as I felt last year</td>\n      <td>40.0</td>\n      <td>20</td>\n      <td>14</td>\n    </tr>\n    <tr>\n      <th>41</th>\n      <td>42</td>\n      <td>I am a developer by profession</td>\n      <td>No</td>\n      <td>32.0</td>\n      <td>14</td>\n      <td>Yearly</td>\n      <td>130000.0</td>\n      <td>130000.0</td>\n      <td>United States</td>\n      <td>United States dollar</td>\n      <td>...</td>\n      <td>Easy</td>\n      <td>Appropriate in length</td>\n      <td>No</td>\n      <td>Computer science, computer engineering, or sof...</td>\n      <td>ASP.NET Core;Spring</td>\n      <td>ASP.NET;Flask;React.js;Spring</td>\n      <td>Somewhat less welcome now than last year</td>\n      <td>37.0</td>\n      <td>16</td>\n      <td>10</td>\n    </tr>\n    <tr>\n      <th>46</th>\n      <td>47</td>\n      <td>I am a developer by profession</td>\n      <td>Yes</td>\n      <td>53.0</td>\n      <td>10</td>\n      <td>Yearly</td>\n      <td>58000.0</td>\n      <td>74970.0</td>\n      <td>United Kingdom</td>\n      <td>Pound sterling</td>\n      <td>...</td>\n      <td>Neither easy nor difficult</td>\n      <td>Appropriate in length</td>\n      <td>No</td>\n      <td>A natural science (such as biology, chemistry,...</td>\n      <td>Flask;Spring</td>\n      <td>Flask;Spring</td>\n      <td>Just as welcome now as I felt last year</td>\n      <td>40.0</td>\n      <td>43</td>\n      <td>28</td>\n    </tr>\n    <tr>\n      <th>68</th>\n      <td>69</td>\n      <td>I am a developer by profession</td>\n      <td>Yes</td>\n      <td>25.0</td>\n      <td>12</td>\n      <td>Yearly</td>\n      <td>550000.0</td>\n      <td>594539.0</td>\n      <td>France</td>\n      <td>European Euro</td>\n      <td>...</td>\n      <td>Easy</td>\n      <td>Too short</td>\n      <td>No</td>\n      <td>Computer science, computer engineering, or sof...</td>\n      <td>Django;Flask</td>\n      <td>Django;Flask</td>\n      <td>Just as welcome now as I felt last year</td>\n      <td>40.0</td>\n      <td>13</td>\n      <td>3</td>\n    </tr>\n    <tr>\n      <th>...</th>\n      <td>...</td>\n      <td>...</td>\n      <td>...</td>\n      <td>...</td>\n      <td>...</td>\n      <td>...</td>\n      <td>...</td>\n      <td>...</td>\n      <td>...</td>\n      <td>...</td>\n      <td>...</td>\n      <td>...</td>\n      <td>...</td>\n      <td>...</td>\n      <td>...</td>\n      <td>...</td>\n      <td>...</td>\n      <td>...</td>\n      <td>...</td>\n      <td>...</td>\n      <td>...</td>\n    </tr>\n    <tr>\n      <th>61636</th>\n      <td>62886</td>\n      <td>I am a developer by profession</td>\n      <td>Yes</td>\n      <td>32.0</td>\n      <td>24</td>\n      <td>Yearly</td>\n      <td>102700.0</td>\n      <td>102700.0</td>\n      <td>United States</td>\n      <td>United States dollar</td>\n      <td>...</td>\n      <td>Easy</td>\n      <td>Appropriate in length</td>\n      <td>No</td>\n      <td>Information systems, information technology, o...</td>\n      <td>Angular</td>\n      <td>Angular;Angular.js;ASP.NET Core</td>\n      <td>Somewhat more welcome now than last year</td>\n      <td>45.0</td>\n      <td>7</td>\n      <td>5</td>\n    </tr>\n    <tr>\n      <th>61654</th>\n      <td>62904</td>\n      <td>I am a developer by profession</td>\n      <td>Yes</td>\n      <td>33.0</td>\n      <td>24</td>\n      <td>Yearly</td>\n      <td>95000.0</td>\n      <td>95000.0</td>\n      <td>United States</td>\n      <td>United States dollar</td>\n      <td>...</td>\n      <td>Neither easy nor difficult</td>\n      <td>Too long</td>\n      <td>No</td>\n      <td>Computer science, computer engineering, or sof...</td>\n      <td>Express;React.js</td>\n      <td>Express;Laravel;React.js;Vue.js</td>\n      <td>Just as welcome now as I felt last year</td>\n      <td>50.0</td>\n      <td>9</td>\n      <td>7</td>\n    </tr>\n    <tr>\n      <th>61993</th>\n      <td>63288</td>\n      <td>I am a developer by profession</td>\n      <td>No</td>\n      <td>31.0</td>\n      <td>16</td>\n      <td>Yearly</td>\n      <td>65000.0</td>\n      <td>84019.0</td>\n      <td>United Kingdom</td>\n      <td>Pound sterling</td>\n      <td>...</td>\n      <td>Easy</td>\n      <td>Appropriate in length</td>\n      <td>No</td>\n      <td>Computer science, computer engineering, or sof...</td>\n      <td>Angular;Angular.js;Express</td>\n      <td>Angular;Angular.js;Express</td>\n      <td>Just as welcome now as I felt last year</td>\n      <td>40.0</td>\n      <td>14</td>\n      <td>7</td>\n    </tr>\n    <tr>\n      <th>63141</th>\n      <td>64523</td>\n      <td>I am a developer by profession</td>\n      <td>No</td>\n      <td>29.0</td>\n      <td>15</td>\n      <td>Monthly</td>\n      <td>8500.0</td>\n      <td>23364.0</td>\n      <td>Brazil</td>\n      <td>Brazilian real</td>\n      <td>...</td>\n      <td>Easy</td>\n      <td>Appropriate in length</td>\n      <td>No</td>\n      <td>Computer science, computer engineering, or sof...</td>\n      <td>Angular;ASP.NET;ASP.NET Core;React.js;Vue.js</td>\n      <td>ASP.NET;ASP.NET Core;jQuery</td>\n      <td>Somewhat more welcome now than last year</td>\n      <td>40.0</td>\n      <td>19</td>\n      <td>17</td>\n    </tr>\n    <tr>\n      <th>63517</th>\n      <td>64938</td>\n      <td>I am a developer by profession</td>\n      <td>No</td>\n      <td>33.0</td>\n      <td>13</td>\n      <td>Yearly</td>\n      <td>55000.0</td>\n      <td>59454.0</td>\n      <td>France</td>\n      <td>European Euro</td>\n      <td>...</td>\n      <td>Easy</td>\n      <td>Appropriate in length</td>\n      <td>No</td>\n      <td>Computer science, computer engineering, or sof...</td>\n      <td>Django;Flask</td>\n      <td>Django;Flask;jQuery;Ruby on Rails</td>\n      <td>Just as welcome now as I felt last year</td>\n      <td>40.0</td>\n      <td>20</td>\n      <td>12</td>\n    </tr>\n  </tbody>\n</table>\n<p>4387 rows × 61 columns</p>\n</div>"
          },
          "metadata": {}
        }
      ],
      "execution_count": 25
    },
    {
      "cell_type": "markdown",
      "source": "## Normalizing data\n",
      "metadata": {}
    },
    {
      "cell_type": "markdown",
      "source": "There are two columns in the dataset that talk about compensation.\n\nOne is \"CompFreq\". This column shows how often a developer is paid (Yearly, Monthly, Weekly).\n\nThe other is \"CompTotal\". This column talks about how much the developer is paid per Year, Month, or Week depending upon his/her \"CompFreq\". \n\nThis makes it difficult to compare the total compensation of the developers.\n\nIn this section you will create a new column called 'NormalizedAnnualCompensation' which contains the 'Annual Compensation' irrespective of the 'CompFreq'.\n\nOnce this column is ready, it makes comparison of salaries easy.\n",
      "metadata": {}
    },
    {
      "cell_type": "markdown",
      "source": "<hr>\n",
      "metadata": {}
    },
    {
      "cell_type": "markdown",
      "source": "List out the various categories in the column 'CompFreq'\n",
      "metadata": {}
    },
    {
      "cell_type": "code",
      "source": "df['CompFreq'].mode() \ndf.CompFreq.value_counts().index ",
      "metadata": {
        "trusted": true
      },
      "outputs": [
        {
          "execution_count": 29,
          "output_type": "execute_result",
          "data": {
            "text/plain": "Index(['Yearly', 'Monthly', 'Weekly'], dtype='object')"
          },
          "metadata": {}
        }
      ],
      "execution_count": 29
    },
    {
      "cell_type": "markdown",
      "source": "Create a new column named 'NormalizedAnnualCompensation'. Use the hint given below if needed.\n",
      "metadata": {}
    },
    {
      "cell_type": "markdown",
      "source": "Double click to see the **Hint**.\n\n<!--\n\nUse the below logic to arrive at the values for the column NormalizedAnnualCompensation.\n\nIf the CompFreq is Yearly then use the exising value in CompTotal\nIf the CompFreq is Monthly then multiply the value in CompTotal with 12 (months in an year)\nIf the CompFreq is Weekly then multiply the value in CompTotal with 52 (weeks in an year)\n\n-->\n",
      "metadata": {}
    },
    {
      "cell_type": "code",
      "source": "annual_comp=[]\nboth = zip(df['CompFreq'], df['CompTotal']) \nfor x, y in both:\n    if x=='Yearly':\n        annual_comp.append(y)\n    elif x=='Monthly':\n        annual_comp.append(y*12)\n    else:\n        annual_comp.append(y*52)\n\ndf['NormalizedAnnualCompensation'] = annual_comp        \ndf[['NormalizedAnnualCompensation']]\n",
      "metadata": {
        "trusted": true
      },
      "outputs": [
        {
          "execution_count": 40,
          "output_type": "execute_result",
          "data": {
            "text/plain": "       NormalizedAnnualCompensation\n0                               NaN\n1                               NaN\n2                               NaN\n3                               NaN\n4                               NaN\n...                             ...\n64456                           NaN\n64457                           NaN\n64458                           NaN\n64459                           NaN\n64460                           NaN\n\n[64461 rows x 1 columns]",
            "text/html": "<div>\n<style scoped>\n    .dataframe tbody tr th:only-of-type {\n        vertical-align: middle;\n    }\n\n    .dataframe tbody tr th {\n        vertical-align: top;\n    }\n\n    .dataframe thead th {\n        text-align: right;\n    }\n</style>\n<table border=\"1\" class=\"dataframe\">\n  <thead>\n    <tr style=\"text-align: right;\">\n      <th></th>\n      <th>NormalizedAnnualCompensation</th>\n    </tr>\n  </thead>\n  <tbody>\n    <tr>\n      <th>0</th>\n      <td>NaN</td>\n    </tr>\n    <tr>\n      <th>1</th>\n      <td>NaN</td>\n    </tr>\n    <tr>\n      <th>2</th>\n      <td>NaN</td>\n    </tr>\n    <tr>\n      <th>3</th>\n      <td>NaN</td>\n    </tr>\n    <tr>\n      <th>4</th>\n      <td>NaN</td>\n    </tr>\n    <tr>\n      <th>...</th>\n      <td>...</td>\n    </tr>\n    <tr>\n      <th>64456</th>\n      <td>NaN</td>\n    </tr>\n    <tr>\n      <th>64457</th>\n      <td>NaN</td>\n    </tr>\n    <tr>\n      <th>64458</th>\n      <td>NaN</td>\n    </tr>\n    <tr>\n      <th>64459</th>\n      <td>NaN</td>\n    </tr>\n    <tr>\n      <th>64460</th>\n      <td>NaN</td>\n    </tr>\n  </tbody>\n</table>\n<p>64461 rows × 1 columns</p>\n</div>"
          },
          "metadata": {}
        }
      ],
      "execution_count": 40
    },
    {
      "cell_type": "markdown",
      "source": "## Authors\n",
      "metadata": {}
    },
    {
      "cell_type": "markdown",
      "source": "Ramesh Sannareddy\n",
      "metadata": {}
    },
    {
      "cell_type": "markdown",
      "source": "### Other Contributors\n",
      "metadata": {}
    },
    {
      "cell_type": "markdown",
      "source": "Rav Ahuja\n",
      "metadata": {}
    },
    {
      "cell_type": "markdown",
      "source": "## Change Log\n",
      "metadata": {}
    },
    {
      "cell_type": "markdown",
      "source": "| Date (YYYY-MM-DD) | Version | Changed By        | Change Description                 |\n| ----------------- | ------- | ----------------- | ---------------------------------- |\n| 2020-10-17        | 0.1     | Ramesh Sannareddy | Created initial version of the lab |\n",
      "metadata": {}
    },
    {
      "cell_type": "markdown",
      "source": " Copyright © 2020 IBM Corporation. This notebook and its source code are released under the terms of the [MIT License](https://cognitiveclass.ai/mit-license?cm_mmc=Email_Newsletter-_-Developer_Ed%2BTech-_-WW_WW-_-SkillsNetwork-Courses-IBM-DA0321EN-SkillsNetwork-21426264&cm_mmca1=000026UJ&cm_mmca2=10006555&cm_mmca3=M12345678&cvosrc=email.Newsletter.M12345678&cvo_campaign=000026UJ&cm_mmc=Email_Newsletter-_-Developer_Ed%2BTech-_-WW_WW-_-SkillsNetwork-Courses-IBM-DA0321EN-SkillsNetwork-21426264&cm_mmca1=000026UJ&cm_mmca2=10006555&cm_mmca3=M12345678&cvosrc=email.Newsletter.M12345678&cvo_campaign=000026UJ&cm_mmc=Email_Newsletter-_-Developer_Ed%2BTech-_-WW_WW-_-SkillsNetwork-Courses-IBM-DA0321EN-SkillsNetwork-21426264&cm_mmca1=000026UJ&cm_mmca2=10006555&cm_mmca3=M12345678&cvosrc=email.Newsletter.M12345678&cvo_campaign=000026UJ&cm_mmc=Email_Newsletter-_-Developer_Ed%2BTech-_-WW_WW-_-SkillsNetwork-Courses-IBM-DA0321EN-SkillsNetwork-21426264&cm_mmca1=000026UJ&cm_mmca2=10006555&cm_mmca3=M12345678&cvosrc=email.Newsletter.M12345678&cvo_campaign=000026UJ&cm_mmc=Email_Newsletter-_-Developer_Ed%2BTech-_-WW_WW-_-SkillsNetwork-Courses-IBM-DA0321EN-SkillsNetwork-21426264&cm_mmca1=000026UJ&cm_mmca2=10006555&cm_mmca3=M12345678&cvosrc=email.Newsletter.M12345678&cvo_campaign=000026UJ&cm_mmc=Email_Newsletter-_-Developer_Ed%2BTech-_-WW_WW-_-SkillsNetwork-Courses-IBM-DA0321EN-SkillsNetwork-21426264&cm_mmca1=000026UJ&cm_mmca2=10006555&cm_mmca3=M12345678&cvosrc=email.Newsletter.M12345678&cvo_campaign=000026UJ).\n",
      "metadata": {}
    }
  ]
}